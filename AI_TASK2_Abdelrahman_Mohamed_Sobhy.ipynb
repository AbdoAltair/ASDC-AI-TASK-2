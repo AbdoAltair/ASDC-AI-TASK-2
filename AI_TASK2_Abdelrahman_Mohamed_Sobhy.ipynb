{
  "cells": [
    {
      "cell_type": "code",
      "source": [
        "!pip install keras"
      ],
      "metadata": {
        "colab": {
          "base_uri": "https://localhost:8080/"
        },
        "id": "scqj1gCGbLrB",
        "outputId": "6eb02790-73d4-41f4-b2fc-0f3c0c9257ae"
      },
      "id": "scqj1gCGbLrB",
      "execution_count": 1,
      "outputs": [
        {
          "output_type": "stream",
          "name": "stdout",
          "text": [
            "Requirement already satisfied: keras in /usr/local/lib/python3.10/dist-packages (2.14.0)\n"
          ]
        }
      ]
    },
    {
      "cell_type": "code",
      "execution_count": 2,
      "metadata": {
        "id": "80f6123c"
      },
      "outputs": [],
      "source": [
        "import struct\n",
        "import numpy as np\n",
        "from sklearn.metrics import accuracy_score\n",
        "from math import exp\n",
        "from sklearn.model_selection import train_test_split as split_\n",
        "from random import seed\n",
        "from sklearn import  metrics\n",
        "import itertools\n",
        "import tensorflow as tf\n",
        "from tensorflow.keras import datasets, layers, models, optimizers\n",
        "import matplotlib.pyplot as plt\n",
        "import keras\n",
        "from tensorflow.python.keras.models import Input\n",
        "\n",
        "from keras.models import Sequential , Model\n",
        "from keras.layers import Dense, Dropout, Flatten\n",
        "from keras.layers import Conv2D, MaxPooling2D\n",
        "from keras.layers import ELU, PReLU, LeakyReLU\n",
        "\n",
        "from scipy.io import loadmat\n"
      ],
      "id": "80f6123c"
    },
    {
      "cell_type": "code",
      "source": [],
      "metadata": {
        "id": "pO0ODsRXbCeg"
      },
      "id": "pO0ODsRXbCeg",
      "execution_count": 2,
      "outputs": []
    },
    {
      "cell_type": "code",
      "source": [
        "from google.colab import drive\n",
        "drive.mount('/content/drive')"
      ],
      "metadata": {
        "colab": {
          "base_uri": "https://localhost:8080/"
        },
        "id": "Hns_xxorbDNr",
        "outputId": "c90d0153-ddf3-4b48-d375-400cb1703283"
      },
      "id": "Hns_xxorbDNr",
      "execution_count": 3,
      "outputs": [
        {
          "output_type": "stream",
          "name": "stdout",
          "text": [
            "Drive already mounted at /content/drive; to attempt to forcibly remount, call drive.mount(\"/content/drive\", force_remount=True).\n"
          ]
        }
      ]
    },
    {
      "cell_type": "code",
      "source": [
        "import os\n",
        "\n",
        "dir_path = '/content/drive/MyDrive/jpg'\n",
        "print(len([entry for entry in os.listdir(dir_path) if os.path.isfile(os.path.join(dir_path, entry))]))"
      ],
      "metadata": {
        "colab": {
          "base_uri": "https://localhost:8080/"
        },
        "id": "25VKcwHjNSDN",
        "outputId": "1c83720d-f073-437f-9ed0-795c8094dcfe"
      },
      "id": "25VKcwHjNSDN",
      "execution_count": 4,
      "outputs": [
        {
          "output_type": "stream",
          "name": "stdout",
          "text": [
            "8189\n"
          ]
        }
      ]
    },
    {
      "cell_type": "code",
      "source": [
        "# #import os\n",
        "# import glob\n",
        "# list_name = []\n",
        "\n",
        "# path = \"/content/drive/MyDrive/jpg/*.jpg\"\n",
        "# for file in glob.glob(path):\n",
        "\n",
        "\n",
        "\n",
        "\n",
        "#   full_name = os.path.basename(file)\n",
        "#   list_name.append(full_name)\n",
        "#   #print(full_name)\n"
      ],
      "metadata": {
        "id": "w1EPYs2-DSDd"
      },
      "id": "w1EPYs2-DSDd",
      "execution_count": 5,
      "outputs": []
    },
    {
      "cell_type": "code",
      "source": [
        "# print(list_name)"
      ],
      "metadata": {
        "id": "dz7Oqe10D_Fc"
      },
      "id": "dz7Oqe10D_Fc",
      "execution_count": 6,
      "outputs": []
    },
    {
      "cell_type": "code",
      "source": [
        "# import os\n",
        "# from collections import namedtuple\n",
        "\n",
        "# directory = '/content/drive/MyDrive/jpg' #file directory\n",
        "# os.chdir(directory)\n",
        "\n",
        "# newest_files = {}\n",
        "# Entry = namedtuple('Entry',['date','file_name'])\n",
        "\n",
        "# for file_name in os.listdir(directory):\n",
        "#     name,ext = os.path.splitext(file_name)\n",
        "#     cashed_file = newest_files.get(name)\n",
        "#     this_file_date = os.path.getmtime(file_name)\n",
        "#     if cashed_file is None:\n",
        "#         newest_files[name] = Entry(this_file_date,file_name)\n",
        "#     else:\n",
        "#         if this_file_date > cashed_file.date: #replace with the newer one\n",
        "#             newest_files[name] = Entry(this_file_date,file_name)"
      ],
      "metadata": {
        "id": "AzubA8wNNk4k"
      },
      "id": "AzubA8wNNk4k",
      "execution_count": 7,
      "outputs": []
    },
    {
      "cell_type": "code",
      "source": [
        "# newest_files"
      ],
      "metadata": {
        "id": "vRlK7asVOL1M"
      },
      "id": "vRlK7asVOL1M",
      "execution_count": 8,
      "outputs": []
    },
    {
      "cell_type": "code",
      "source": [
        "import numpy as np\n",
        "X_data = []\n",
        "Y_data = []\n",
        "\n",
        "print(type(X_data))\n",
        "print(X_data)"
      ],
      "metadata": {
        "id": "Gnp6oltT09Zv",
        "colab": {
          "base_uri": "https://localhost:8080/"
        },
        "outputId": "967588fa-0bee-4e4b-ee5e-cd59dd3bf932"
      },
      "id": "Gnp6oltT09Zv",
      "execution_count": 9,
      "outputs": [
        {
          "output_type": "stream",
          "name": "stdout",
          "text": [
            "<class 'list'>\n",
            "[]\n"
          ]
        }
      ]
    },
    {
      "cell_type": "code",
      "source": [],
      "metadata": {
        "id": "d8ieQHOCqL1X"
      },
      "id": "d8ieQHOCqL1X",
      "execution_count": 9,
      "outputs": []
    },
    {
      "cell_type": "code",
      "source": [],
      "metadata": {
        "id": "x8qscLeFqd_g"
      },
      "id": "x8qscLeFqd_g",
      "execution_count": 9,
      "outputs": []
    },
    {
      "cell_type": "code",
      "source": [
        "Y_data = loadmat('/content/drive/MyDrive/imagelabels.mat')\n"
      ],
      "metadata": {
        "id": "Y4sUejhCay5X"
      },
      "id": "Y4sUejhCay5X",
      "execution_count": 10,
      "outputs": []
    },
    {
      "cell_type": "code",
      "source": [
        "Y_data = Y_data['labels']"
      ],
      "metadata": {
        "id": "joRaX3eQbBD4"
      },
      "id": "joRaX3eQbBD4",
      "execution_count": 11,
      "outputs": []
    },
    {
      "cell_type": "code",
      "source": [
        "Y_data = Y_data.reshape(-1)"
      ],
      "metadata": {
        "id": "jg47VOZycbyZ"
      },
      "id": "jg47VOZycbyZ",
      "execution_count": 12,
      "outputs": []
    },
    {
      "cell_type": "code",
      "source": [
        "Y_data.shape"
      ],
      "metadata": {
        "colab": {
          "base_uri": "https://localhost:8080/"
        },
        "id": "RD29evPpcpvw",
        "outputId": "16ebbc62-65d1-4161-b9ce-86e7bf41072b"
      },
      "id": "RD29evPpcpvw",
      "execution_count": 13,
      "outputs": [
        {
          "output_type": "execute_result",
          "data": {
            "text/plain": [
              "(8189,)"
            ]
          },
          "metadata": {},
          "execution_count": 13
        }
      ]
    },
    {
      "cell_type": "code",
      "source": [
        "len(X_data)"
      ],
      "metadata": {
        "id": "KX9t0DYHcw5w",
        "colab": {
          "base_uri": "https://localhost:8080/"
        },
        "outputId": "144c394a-68f9-4fbf-84b0-312ae6349f8a"
      },
      "id": "KX9t0DYHcw5w",
      "execution_count": 14,
      "outputs": [
        {
          "output_type": "execute_result",
          "data": {
            "text/plain": [
              "0"
            ]
          },
          "metadata": {},
          "execution_count": 14
        }
      ]
    },
    {
      "cell_type": "code",
      "source": [
        "import cv2\n",
        "import glob\n",
        "\n",
        "\n",
        "path = \"/content/drive/MyDrive/jpg/*.jpg\"\n",
        "for file in glob.glob(path):\n",
        "\n",
        "   a= cv2.imread(file)\n",
        "   a = cv2.resize(a, (200, 200))\n",
        "\n",
        "\n",
        "   X_data.append(a)\n"
      ],
      "metadata": {
        "id": "l9fX-YAraZQY"
      },
      "id": "l9fX-YAraZQY",
      "execution_count": 15,
      "outputs": []
    },
    {
      "cell_type": "code",
      "source": [
        "len(X_data)"
      ],
      "metadata": {
        "id": "oOCofB2bm_bI",
        "colab": {
          "base_uri": "https://localhost:8080/"
        },
        "outputId": "7639a584-b76f-4285-e2a9-e86206a7b978"
      },
      "id": "oOCofB2bm_bI",
      "execution_count": 16,
      "outputs": [
        {
          "output_type": "execute_result",
          "data": {
            "text/plain": [
              "8189"
            ]
          },
          "metadata": {},
          "execution_count": 16
        }
      ]
    },
    {
      "cell_type": "code",
      "source": [
        "# X_data[0].data == X_data[1].data"
      ],
      "metadata": {
        "id": "b1uDQbINVtlV"
      },
      "id": "b1uDQbINVtlV",
      "execution_count": 17,
      "outputs": []
    },
    {
      "cell_type": "code",
      "source": [
        "# for i in range(0,len(X_data)-1):\n",
        "#   M1 = X_data[i].data\n",
        "#   M2 = X_data[i+1].data\n",
        "#   if M1 == M2:\n",
        "#     print(i)"
      ],
      "metadata": {
        "id": "oUncIcNwUMxN"
      },
      "id": "oUncIcNwUMxN",
      "execution_count": 18,
      "outputs": []
    },
    {
      "cell_type": "code",
      "source": [
        "# print(len(X_data))"
      ],
      "metadata": {
        "id": "1nTesfvxU9C0"
      },
      "id": "1nTesfvxU9C0",
      "execution_count": 19,
      "outputs": []
    },
    {
      "cell_type": "code",
      "source": [
        "# X_data = set(X_data)"
      ],
      "metadata": {
        "id": "M6PGvTZkS0dV"
      },
      "id": "M6PGvTZkS0dV",
      "execution_count": 20,
      "outputs": []
    },
    {
      "cell_type": "code",
      "source": [
        "# X_data = list(dict.fromkeys(X_data))\n",
        "# #print(mylist)"
      ],
      "metadata": {
        "id": "v0hqITykndwG"
      },
      "id": "v0hqITykndwG",
      "execution_count": 21,
      "outputs": []
    },
    {
      "cell_type": "code",
      "source": [
        "len(X_data)"
      ],
      "metadata": {
        "id": "pEuumSNiSOAF",
        "colab": {
          "base_uri": "https://localhost:8080/"
        },
        "outputId": "cd7c2904-ea34-4453-a453-e07e72e933f7"
      },
      "id": "pEuumSNiSOAF",
      "execution_count": 22,
      "outputs": [
        {
          "output_type": "execute_result",
          "data": {
            "text/plain": [
              "8189"
            ]
          },
          "metadata": {},
          "execution_count": 22
        }
      ]
    },
    {
      "cell_type": "code",
      "source": [
        "X_data = np.array(X_data)\n",
        "Y_data = np.array(Y_data)"
      ],
      "metadata": {
        "id": "NRp_3Z2qe2jX"
      },
      "id": "NRp_3Z2qe2jX",
      "execution_count": 23,
      "outputs": []
    },
    {
      "cell_type": "code",
      "source": [
        "#X_data = X_data[:8189]"
      ],
      "metadata": {
        "id": "O9lQvw3DfvmJ"
      },
      "id": "O9lQvw3DfvmJ",
      "execution_count": 24,
      "outputs": []
    },
    {
      "cell_type": "code",
      "source": [
        "X_data.shape"
      ],
      "metadata": {
        "id": "clJlicwpc9ZQ",
        "colab": {
          "base_uri": "https://localhost:8080/"
        },
        "outputId": "701d0c61-328f-43f7-9f6d-5774b5f59471"
      },
      "id": "clJlicwpc9ZQ",
      "execution_count": 25,
      "outputs": [
        {
          "output_type": "execute_result",
          "data": {
            "text/plain": [
              "(8189, 200, 200, 3)"
            ]
          },
          "metadata": {},
          "execution_count": 25
        }
      ]
    },
    {
      "cell_type": "code",
      "source": [
        "Y_data.shape"
      ],
      "metadata": {
        "id": "nknCOxswe5iw",
        "colab": {
          "base_uri": "https://localhost:8080/"
        },
        "outputId": "6279ab31-d3ef-40d5-b3ce-398240ed5757"
      },
      "id": "nknCOxswe5iw",
      "execution_count": 26,
      "outputs": [
        {
          "output_type": "execute_result",
          "data": {
            "text/plain": [
              "(8189,)"
            ]
          },
          "metadata": {},
          "execution_count": 26
        }
      ]
    },
    {
      "cell_type": "code",
      "execution_count": 26,
      "metadata": {
        "id": "91aeb23f"
      },
      "outputs": [],
      "source": [],
      "id": "91aeb23f"
    },
    {
      "cell_type": "code",
      "source": [
        "X_data.shape"
      ],
      "metadata": {
        "id": "y3P-4ws7agX4",
        "colab": {
          "base_uri": "https://localhost:8080/"
        },
        "outputId": "1709fc3c-8fe3-466f-c0a6-8e53855cacae"
      },
      "id": "y3P-4ws7agX4",
      "execution_count": 27,
      "outputs": [
        {
          "output_type": "execute_result",
          "data": {
            "text/plain": [
              "(8189, 200, 200, 3)"
            ]
          },
          "metadata": {},
          "execution_count": 27
        }
      ]
    },
    {
      "cell_type": "code",
      "source": [
        "Y_data.shape"
      ],
      "metadata": {
        "id": "JgeCkhlNahJn",
        "colab": {
          "base_uri": "https://localhost:8080/"
        },
        "outputId": "2d23a591-9058-483f-ac8d-a8cd3e166107"
      },
      "id": "JgeCkhlNahJn",
      "execution_count": 28,
      "outputs": [
        {
          "output_type": "execute_result",
          "data": {
            "text/plain": [
              "(8189,)"
            ]
          },
          "metadata": {},
          "execution_count": 28
        }
      ]
    },
    {
      "cell_type": "code",
      "source": [],
      "metadata": {
        "id": "NpOYcpCqajP_"
      },
      "id": "NpOYcpCqajP_",
      "execution_count": 28,
      "outputs": []
    },
    {
      "cell_type": "code",
      "source": [
        "from sklearn.utils import shuffle\n",
        "X , Y = shuffle(X_data , Y_data)\n",
        "\n"
      ],
      "metadata": {
        "id": "cnRGiuqYalPw"
      },
      "id": "cnRGiuqYalPw",
      "execution_count": 29,
      "outputs": []
    },
    {
      "cell_type": "code",
      "source": [
        "Train_Len = int(len(X) * 0.7)"
      ],
      "metadata": {
        "id": "tnPtE_3udg-_"
      },
      "id": "tnPtE_3udg-_",
      "execution_count": 30,
      "outputs": []
    },
    {
      "cell_type": "code",
      "source": [
        "train_images = X[ : Train_Len ]\n",
        "test_images = X[ Train_Len : ]\n",
        "train_labels = Y[ : Train_Len ]\n",
        "test_labels = Y[ Train_Len : ]"
      ],
      "metadata": {
        "id": "LWnc98M6anhH"
      },
      "id": "LWnc98M6anhH",
      "execution_count": 31,
      "outputs": []
    },
    {
      "cell_type": "code",
      "source": [
        "# Val_Len = int(len(train_images)*0.5)\n"
      ],
      "metadata": {
        "id": "vFYHpev2dqUa"
      },
      "id": "vFYHpev2dqUa",
      "execution_count": 32,
      "outputs": []
    },
    {
      "cell_type": "code",
      "source": [
        "# test_images = test_images[ :Val_Len ]\n",
        "# val_images = test_images[ Val_Len : ]\n",
        "# test_labels = test_labels[  :Val_Len ]\n",
        "# val_labels = test_labels[ Val_Len : ]\n"
      ],
      "metadata": {
        "id": "AmKdkEF4d03K"
      },
      "id": "AmKdkEF4d03K",
      "execution_count": 33,
      "outputs": []
    },
    {
      "cell_type": "code",
      "source": [
        "#X_train = np.array(X_train)\n",
        "#X_test = np.array(X_test)\n",
        "#Y_train = np.array(Y_train)\n",
        "#Y_test = np.array(Y_test)"
      ],
      "metadata": {
        "id": "t33C719waskn"
      },
      "id": "t33C719waskn",
      "execution_count": 34,
      "outputs": []
    },
    {
      "cell_type": "code",
      "source": [
        "len(train_images)\n"
      ],
      "metadata": {
        "id": "BqRsQl3JgqPP",
        "colab": {
          "base_uri": "https://localhost:8080/"
        },
        "outputId": "651c3c7c-6f42-4a09-ecf4-df99ed2e9d6b"
      },
      "id": "BqRsQl3JgqPP",
      "execution_count": 35,
      "outputs": [
        {
          "output_type": "execute_result",
          "data": {
            "text/plain": [
              "5732"
            ]
          },
          "metadata": {},
          "execution_count": 35
        }
      ]
    },
    {
      "cell_type": "code",
      "source": [
        "len(train_labels)"
      ],
      "metadata": {
        "id": "86_XR4OJgsPX",
        "colab": {
          "base_uri": "https://localhost:8080/"
        },
        "outputId": "02abe96b-1180-4321-acf1-3d6f898a994b"
      },
      "id": "86_XR4OJgsPX",
      "execution_count": 36,
      "outputs": [
        {
          "output_type": "execute_result",
          "data": {
            "text/plain": [
              "5732"
            ]
          },
          "metadata": {},
          "execution_count": 36
        }
      ]
    },
    {
      "cell_type": "code",
      "source": [
        "#train_images = np.array([np.array(val) for val in train_images])\n"
      ],
      "metadata": {
        "id": "JVcOUbaHgpDP"
      },
      "id": "JVcOUbaHgpDP",
      "execution_count": 37,
      "outputs": []
    },
    {
      "cell_type": "code",
      "source": [
        "len(train_images)+len(test_images)"
      ],
      "metadata": {
        "colab": {
          "base_uri": "https://localhost:8080/"
        },
        "id": "nnk-6HZwH2ZM",
        "outputId": "d1c0a4b0-d484-4746-999b-542e3200be7b"
      },
      "id": "nnk-6HZwH2ZM",
      "execution_count": 38,
      "outputs": [
        {
          "output_type": "execute_result",
          "data": {
            "text/plain": [
              "8189"
            ]
          },
          "metadata": {},
          "execution_count": 38
        }
      ]
    },
    {
      "cell_type": "code",
      "source": [],
      "metadata": {
        "id": "i6VSqQYDH8xj"
      },
      "id": "i6VSqQYDH8xj",
      "execution_count": 38,
      "outputs": []
    },
    {
      "cell_type": "code",
      "source": [
        "train_labels_HOT = []\n",
        "for l in train_labels:\n",
        "  label = np.zeros(102)\n",
        "  label[l-1] = 1\n",
        "  train_labels_HOT.append(label)\n",
        "\n",
        "\n",
        "train_labels_HOT = np.array(train_labels_HOT)\n",
        "\n",
        "\n",
        "test_labels_HOT = []\n",
        "for l in test_labels:\n",
        "  label = np.zeros(102)\n",
        "  label[l-1] = 1\n",
        "  test_labels_HOT.append(label)\n",
        "\n",
        "\n",
        "test_labels_HOT = np.array(test_labels_HOT)"
      ],
      "metadata": {
        "id": "HwfcpRMsSf0b"
      },
      "id": "HwfcpRMsSf0b",
      "execution_count": 39,
      "outputs": []
    },
    {
      "cell_type": "code",
      "source": [
        "train_labels_HOT.shape"
      ],
      "metadata": {
        "colab": {
          "base_uri": "https://localhost:8080/"
        },
        "id": "jbsS_OVHTkEE",
        "outputId": "25d69483-fca6-48d5-95d8-34794e5899f3"
      },
      "id": "jbsS_OVHTkEE",
      "execution_count": 40,
      "outputs": [
        {
          "output_type": "execute_result",
          "data": {
            "text/plain": [
              "(5732, 102)"
            ]
          },
          "metadata": {},
          "execution_count": 40
        }
      ]
    },
    {
      "cell_type": "code",
      "source": [
        "test_labels_HOT.shape"
      ],
      "metadata": {
        "colab": {
          "base_uri": "https://localhost:8080/"
        },
        "id": "MHS2bjgMVqO_",
        "outputId": "1efe5ef0-385d-484f-866a-b0b985dffed0"
      },
      "id": "MHS2bjgMVqO_",
      "execution_count": 41,
      "outputs": [
        {
          "output_type": "execute_result",
          "data": {
            "text/plain": [
              "(2457, 102)"
            ]
          },
          "metadata": {},
          "execution_count": 41
        }
      ]
    },
    {
      "cell_type": "code",
      "source": [],
      "metadata": {
        "id": "Sv9twdYMS4ZN"
      },
      "id": "Sv9twdYMS4ZN",
      "execution_count": 41,
      "outputs": []
    },
    {
      "cell_type": "code",
      "execution_count": 42,
      "metadata": {
        "id": "abe28033"
      },
      "outputs": [],
      "source": [
        "model = models.Sequential()\n",
        "model.add(layers.Conv2D(30, (3, 3), activation='relu', input_shape=(200, 200, 3)))\n",
        "model.add(layers.MaxPooling2D((2, 2)))\n",
        "model.add(Dropout(0.1))\n",
        "model.add(layers.Conv2D(60, (3, 3), activation='relu'))\n",
        "model.add(layers.MaxPooling2D((2, 2)))\n",
        "model.add(Dropout(0.1))\n",
        "model.add(layers.Conv2D(60, (3, 3), activation='relu'))\n",
        "model.add(layers.MaxPooling2D((2, 2)))\n",
        "model.add(Dropout(0.1))\n",
        "model.add(layers.Conv2D(120, (3, 3), activation='relu'))\n",
        "model.add(layers.MaxPooling2D((2, 2)))\n",
        "model.add(Dropout(0.1))\n",
        "model.add(layers.Conv2D(240, (3, 3) , activation='relu'))\n",
        "model.add(Dropout(0.1))"
      ],
      "id": "abe28033"
    },
    {
      "cell_type": "code",
      "execution_count": 43,
      "metadata": {
        "id": "423535ea",
        "colab": {
          "base_uri": "https://localhost:8080/"
        },
        "outputId": "009089ab-268d-412d-9804-eb84b711162b"
      },
      "outputs": [
        {
          "output_type": "stream",
          "name": "stdout",
          "text": [
            "Model: \"sequential\"\n",
            "_________________________________________________________________\n",
            " Layer (type)                Output Shape              Param #   \n",
            "=================================================================\n",
            " conv2d (Conv2D)             (None, 198, 198, 30)      840       \n",
            "                                                                 \n",
            " max_pooling2d (MaxPooling2  (None, 99, 99, 30)        0         \n",
            " D)                                                              \n",
            "                                                                 \n",
            " dropout (Dropout)           (None, 99, 99, 30)        0         \n",
            "                                                                 \n",
            " conv2d_1 (Conv2D)           (None, 97, 97, 60)        16260     \n",
            "                                                                 \n",
            " max_pooling2d_1 (MaxPoolin  (None, 48, 48, 60)        0         \n",
            " g2D)                                                            \n",
            "                                                                 \n",
            " dropout_1 (Dropout)         (None, 48, 48, 60)        0         \n",
            "                                                                 \n",
            " conv2d_2 (Conv2D)           (None, 46, 46, 60)        32460     \n",
            "                                                                 \n",
            " max_pooling2d_2 (MaxPoolin  (None, 23, 23, 60)        0         \n",
            " g2D)                                                            \n",
            "                                                                 \n",
            " dropout_2 (Dropout)         (None, 23, 23, 60)        0         \n",
            "                                                                 \n",
            " conv2d_3 (Conv2D)           (None, 21, 21, 120)       64920     \n",
            "                                                                 \n",
            " max_pooling2d_3 (MaxPoolin  (None, 10, 10, 120)       0         \n",
            " g2D)                                                            \n",
            "                                                                 \n",
            " dropout_3 (Dropout)         (None, 10, 10, 120)       0         \n",
            "                                                                 \n",
            " conv2d_4 (Conv2D)           (None, 8, 8, 240)         259440    \n",
            "                                                                 \n",
            " dropout_4 (Dropout)         (None, 8, 8, 240)         0         \n",
            "                                                                 \n",
            "=================================================================\n",
            "Total params: 373920 (1.43 MB)\n",
            "Trainable params: 373920 (1.43 MB)\n",
            "Non-trainable params: 0 (0.00 Byte)\n",
            "_________________________________________________________________\n"
          ]
        }
      ],
      "source": [
        "model.summary()\n"
      ],
      "id": "423535ea"
    },
    {
      "cell_type": "code",
      "execution_count": 44,
      "metadata": {
        "id": "0e44e1fd"
      },
      "outputs": [],
      "source": [
        "model.add(layers.Flatten())\n",
        "model.add(layers.Dense(10, activation='relu'))\n",
        "model.add(layers.Dense(102, activation='softmax'))"
      ],
      "id": "0e44e1fd"
    },
    {
      "cell_type": "code",
      "execution_count": 45,
      "metadata": {
        "id": "8a5e7fa6",
        "colab": {
          "base_uri": "https://localhost:8080/"
        },
        "outputId": "7191e3e8-b217-4bf6-b749-08b4e3711156"
      },
      "outputs": [
        {
          "output_type": "stream",
          "name": "stdout",
          "text": [
            "Model: \"sequential\"\n",
            "_________________________________________________________________\n",
            " Layer (type)                Output Shape              Param #   \n",
            "=================================================================\n",
            " conv2d (Conv2D)             (None, 198, 198, 30)      840       \n",
            "                                                                 \n",
            " max_pooling2d (MaxPooling2  (None, 99, 99, 30)        0         \n",
            " D)                                                              \n",
            "                                                                 \n",
            " dropout (Dropout)           (None, 99, 99, 30)        0         \n",
            "                                                                 \n",
            " conv2d_1 (Conv2D)           (None, 97, 97, 60)        16260     \n",
            "                                                                 \n",
            " max_pooling2d_1 (MaxPoolin  (None, 48, 48, 60)        0         \n",
            " g2D)                                                            \n",
            "                                                                 \n",
            " dropout_1 (Dropout)         (None, 48, 48, 60)        0         \n",
            "                                                                 \n",
            " conv2d_2 (Conv2D)           (None, 46, 46, 60)        32460     \n",
            "                                                                 \n",
            " max_pooling2d_2 (MaxPoolin  (None, 23, 23, 60)        0         \n",
            " g2D)                                                            \n",
            "                                                                 \n",
            " dropout_2 (Dropout)         (None, 23, 23, 60)        0         \n",
            "                                                                 \n",
            " conv2d_3 (Conv2D)           (None, 21, 21, 120)       64920     \n",
            "                                                                 \n",
            " max_pooling2d_3 (MaxPoolin  (None, 10, 10, 120)       0         \n",
            " g2D)                                                            \n",
            "                                                                 \n",
            " dropout_3 (Dropout)         (None, 10, 10, 120)       0         \n",
            "                                                                 \n",
            " conv2d_4 (Conv2D)           (None, 8, 8, 240)         259440    \n",
            "                                                                 \n",
            " dropout_4 (Dropout)         (None, 8, 8, 240)         0         \n",
            "                                                                 \n",
            " flatten (Flatten)           (None, 15360)             0         \n",
            "                                                                 \n",
            " dense (Dense)               (None, 10)                153610    \n",
            "                                                                 \n",
            " dense_1 (Dense)             (None, 102)               1122      \n",
            "                                                                 \n",
            "=================================================================\n",
            "Total params: 528652 (2.02 MB)\n",
            "Trainable params: 528652 (2.02 MB)\n",
            "Non-trainable params: 0 (0.00 Byte)\n",
            "_________________________________________________________________\n"
          ]
        }
      ],
      "source": [
        "model.summary()\n"
      ],
      "id": "8a5e7fa6"
    },
    {
      "cell_type": "code",
      "source": [
        "import numpy as np\n",
        "\n",
        "# Check for NaN values\n",
        "print(np.any(np.isnan(train_images)))\n",
        "print(np.any(np.isnan(test_images)))\n",
        "\n",
        "# Check for infinite values\n",
        "print(np.any(np.isinf(train_images)))\n",
        "print(np.any(np.isinf(test_images)))"
      ],
      "metadata": {
        "colab": {
          "base_uri": "https://localhost:8080/"
        },
        "id": "yskwVeQzOCR7",
        "outputId": "4135dace-878a-4751-e090-179309a0a948"
      },
      "id": "yskwVeQzOCR7",
      "execution_count": 46,
      "outputs": [
        {
          "output_type": "stream",
          "name": "stdout",
          "text": [
            "False\n",
            "False\n",
            "False\n",
            "False\n"
          ]
        }
      ]
    },
    {
      "cell_type": "code",
      "source": [],
      "metadata": {
        "id": "aNP05NClOka8"
      },
      "id": "aNP05NClOka8",
      "execution_count": 46,
      "outputs": []
    },
    {
      "cell_type": "code",
      "source": [],
      "metadata": {
        "id": "OtOQ01vFPXMK"
      },
      "id": "OtOQ01vFPXMK",
      "execution_count": 46,
      "outputs": []
    },
    {
      "cell_type": "code",
      "execution_count": null,
      "metadata": {
        "id": "9cd2034a",
        "colab": {
          "base_uri": "https://localhost:8080/"
        },
        "outputId": "8d9e9da2-b1a9-4fab-e38f-474c168e33bc"
      },
      "outputs": [
        {
          "output_type": "stream",
          "name": "stdout",
          "text": [
            "Epoch 1/30\n"
          ]
        }
      ],
      "source": [
        "from keras import optimizers\n",
        "\n",
        "model.compile(optimizer=optimizers.Adam(learning_rate=0.001),\n",
        "              loss=tf.keras.losses.CategoricalCrossentropy(from_logits=False),\n",
        "              metrics=['accuracy'])\n",
        "\n",
        "history = model.fit(train_images, train_labels_HOT, epochs=30,\n",
        "                    validation_data=(test_images, test_labels_HOT),batch_size=50)"
      ],
      "id": "9cd2034a"
    },
    {
      "cell_type": "code",
      "execution_count": null,
      "metadata": {
        "id": "25a3e294"
      },
      "outputs": [],
      "source": [
        "plt.plot(history.history['accuracy'], label='accuracy')\n",
        "plt.plot(history.history['val_accuracy'], label = 'val_accuracy')\n",
        "plt.xlabel('Epoch')\n",
        "plt.ylabel('Accuracy')\n",
        "plt.ylim([0.0, 1.0])\n",
        "plt.legend(loc='lower right')\n",
        "test_loss, test_acc = model.evaluate(test_images,  test_labels_HOT, verbose=2)"
      ],
      "id": "25a3e294"
    },
    {
      "cell_type": "code",
      "execution_count": null,
      "metadata": {
        "id": "f60c7866"
      },
      "outputs": [],
      "source": [
        "print(test_acc)\n"
      ],
      "id": "f60c7866"
    },
    {
      "cell_type": "code",
      "execution_count": null,
      "metadata": {
        "id": "BQKHH7TjsXaF"
      },
      "outputs": [],
      "source": [],
      "id": "BQKHH7TjsXaF"
    }
  ],
  "metadata": {
    "colab": {
      "provenance": [],
      "gpuType": "T4"
    },
    "kernelspec": {
      "display_name": "Python 3",
      "name": "python3"
    },
    "language_info": {
      "codemirror_mode": {
        "name": "ipython",
        "version": 3
      },
      "file_extension": ".py",
      "mimetype": "text/x-python",
      "name": "python",
      "nbconvert_exporter": "python",
      "pygments_lexer": "ipython3",
      "version": "3.8.8"
    },
    "accelerator": "GPU"
  },
  "nbformat": 4,
  "nbformat_minor": 5
}